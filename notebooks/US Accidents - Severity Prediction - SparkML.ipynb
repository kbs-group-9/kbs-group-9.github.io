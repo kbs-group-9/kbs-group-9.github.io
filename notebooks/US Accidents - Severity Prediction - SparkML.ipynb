{
 "cells": [
  {
   "cell_type": "markdown",
   "metadata": {},
   "source": [
    "# US Accidents - Severity Prediction - SparkML"
   ]
  },
  {
   "cell_type": "markdown",
   "metadata": {},
   "source": [
    "## Team Members\n",
    "- Aditya Kamble\n",
    "- Sidharth Panda"
   ]
  },
  {
   "cell_type": "markdown",
   "metadata": {},
   "source": [
    "## Import Dependencies"
   ]
  },
  {
   "cell_type": "code",
   "execution_count": 103,
   "metadata": {},
   "outputs": [],
   "source": [
    "from pyspark.ml import Pipeline\n",
    "from pyspark.ml.regression import RandomForestRegressor\n",
    "from pyspark.ml.feature import VectorIndexer\n",
    "from pyspark.ml.evaluation import RegressionEvaluator\n",
    "from pyspark.context import SparkContext\n",
    "from pyspark.sql.session import SparkSession\n",
    "from pyspark.ml.feature import OneHotEncoderEstimator, StringIndexer, VectorAssembler\n",
    "from pyspark.ml.classification import RandomForestClassifier, DecisionTreeClassifier, LogisticRegression\n",
    "from pyspark.ml.evaluation import BinaryClassificationEvaluator, MulticlassClassificationEvaluator"
   ]
  },
  {
   "cell_type": "markdown",
   "metadata": {},
   "source": [
    "## Data Preparation"
   ]
  },
  {
   "cell_type": "code",
   "execution_count": 44,
   "metadata": {},
   "outputs": [],
   "source": [
    "sparkContext = SparkContext.getOrCreate()\n",
    "spark = SparkSession(sparkContext)"
   ]
  },
  {
   "cell_type": "code",
   "execution_count": 45,
   "metadata": {},
   "outputs": [
    {
     "name": "stdout",
     "output_type": "stream",
     "text": [
      "root\n",
      " |-- TMC: double (nullable = true)\n",
      " |-- Start_Lng: double (nullable = true)\n",
      " |-- Start_Lat: double (nullable = true)\n",
      " |-- Distance(mi): double (nullable = true)\n",
      " |-- Temperature(F): double (nullable = true)\n",
      " |-- Humidity(%): double (nullable = true)\n",
      " |-- Pressure(in): double (nullable = true)\n",
      " |-- Hour: double (nullable = true)\n",
      " |-- Severity: double (nullable = true)\n",
      " |-- Time_Duration_Min: double (nullable = true)\n",
      " |-- State_AR: integer (nullable = true)\n",
      " |-- State_AZ: integer (nullable = true)\n",
      " |-- State_CA: integer (nullable = true)\n",
      " |-- State_CO: integer (nullable = true)\n",
      " |-- State_CT: integer (nullable = true)\n",
      " |-- State_DC: integer (nullable = true)\n",
      " |-- State_DE: integer (nullable = true)\n",
      " |-- State_FL: integer (nullable = true)\n",
      " |-- State_GA: integer (nullable = true)\n",
      " |-- State_IA: integer (nullable = true)\n",
      " |-- State_ID: integer (nullable = true)\n",
      " |-- State_IL: integer (nullable = true)\n",
      " |-- State_IN: integer (nullable = true)\n",
      " |-- State_KS: integer (nullable = true)\n",
      " |-- State_KY: integer (nullable = true)\n",
      " |-- State_LA: integer (nullable = true)\n",
      " |-- State_MA: integer (nullable = true)\n",
      " |-- State_MD: integer (nullable = true)\n",
      " |-- State_ME: integer (nullable = true)\n",
      " |-- State_MI: integer (nullable = true)\n",
      " |-- State_MN: integer (nullable = true)\n",
      " |-- State_MO: integer (nullable = true)\n",
      " |-- State_MS: integer (nullable = true)\n",
      " |-- State_MT: integer (nullable = true)\n",
      " |-- State_NC: integer (nullable = true)\n",
      " |-- State_ND: integer (nullable = true)\n",
      " |-- State_NE: integer (nullable = true)\n",
      " |-- State_NH: integer (nullable = true)\n",
      " |-- State_NJ: integer (nullable = true)\n",
      " |-- State_NM: integer (nullable = true)\n",
      " |-- State_NV: integer (nullable = true)\n",
      " |-- State_NY: integer (nullable = true)\n",
      " |-- State_OH: integer (nullable = true)\n",
      " |-- State_OK: integer (nullable = true)\n",
      " |-- State_OR: integer (nullable = true)\n",
      " |-- State_PA: integer (nullable = true)\n",
      " |-- State_RI: integer (nullable = true)\n",
      " |-- State_SC: integer (nullable = true)\n",
      " |-- State_SD: integer (nullable = true)\n",
      " |-- State_TN: integer (nullable = true)\n",
      " |-- State_TX: integer (nullable = true)\n",
      " |-- State_UT: integer (nullable = true)\n",
      " |-- State_VA: integer (nullable = true)\n",
      " |-- State_VT: integer (nullable = true)\n",
      " |-- State_WA: integer (nullable = true)\n",
      " |-- State_WI: integer (nullable = true)\n",
      " |-- State_WV: integer (nullable = true)\n",
      " |-- State_WY: integer (nullable = true)\n",
      "\n"
     ]
    }
   ],
   "source": [
    "data_df = spark.read.csv('data-processed/us_accidents_dec19.csv', header = True, inferSchema = True)\n",
    "data_df.printSchema()"
   ]
  },
  {
   "cell_type": "code",
   "execution_count": 64,
   "metadata": {},
   "outputs": [],
   "source": [
    "input_features = data_df.columns\n",
    "input_features.remove('Severity')"
   ]
  },
  {
   "cell_type": "code",
   "execution_count": 68,
   "metadata": {},
   "outputs": [],
   "source": [
    "assembler = VectorAssembler(inputCols = input_features , outputCol = 'features')"
   ]
  },
  {
   "cell_type": "code",
   "execution_count": 72,
   "metadata": {},
   "outputs": [],
   "source": [
    "final_df = assembler.transform(data_df)"
   ]
  },
  {
   "cell_type": "code",
   "execution_count": 75,
   "metadata": {},
   "outputs": [],
   "source": [
    "train, test = final_df.randomSplit([0.7, 0.3])"
   ]
  },
  {
   "cell_type": "code",
   "execution_count": 76,
   "metadata": {},
   "outputs": [],
   "source": [
    "random_forest_classifier = RandomForestClassifier(labelCol = 'Severity', featuresCol = 'features')"
   ]
  },
  {
   "cell_type": "code",
   "execution_count": 94,
   "metadata": {},
   "outputs": [],
   "source": [
    "decision_tree_classifier = DecisionTreeClassifier(labelCol = 'Severity', featuresCol = 'features')"
   ]
  },
  {
   "cell_type": "code",
   "execution_count": 78,
   "metadata": {},
   "outputs": [
    {
     "data": {
      "text/plain": [
       "(1542431, 660853)"
      ]
     },
     "execution_count": 78,
     "metadata": {},
     "output_type": "execute_result"
    }
   ],
   "source": [
    "train.count(),test.count()"
   ]
  },
  {
   "cell_type": "code",
   "execution_count": 79,
   "metadata": {},
   "outputs": [],
   "source": [
    "rf_model = random_forest_classifier.fit(train)"
   ]
  },
  {
   "cell_type": "code",
   "execution_count": 80,
   "metadata": {},
   "outputs": [],
   "source": [
    "rf_predictions = rf_model.transform(test)"
   ]
  },
  {
   "cell_type": "code",
   "execution_count": 95,
   "metadata": {},
   "outputs": [],
   "source": [
    "dt_model = decision_tree_classifier.fit(train)"
   ]
  },
  {
   "cell_type": "code",
   "execution_count": 96,
   "metadata": {},
   "outputs": [],
   "source": [
    "dt_predictions = dt_model.transform(test)"
   ]
  },
  {
   "cell_type": "code",
   "execution_count": 104,
   "metadata": {},
   "outputs": [],
   "source": [
    "multi_evaluator = MulticlassClassificationEvaluator(labelCol = 'Severity', metricName = 'accuracy')"
   ]
  },
  {
   "cell_type": "code",
   "execution_count": 105,
   "metadata": {},
   "outputs": [
    {
     "name": "stdout",
     "output_type": "stream",
     "text": [
      "Decision Tree Accuracy: 0.6912142337252006\n"
     ]
    }
   ],
   "source": [
    "print('Decision Tree Accuracy:', multi_evaluator.evaluate(dt_predictions))"
   ]
  },
  {
   "cell_type": "code",
   "execution_count": 106,
   "metadata": {},
   "outputs": [
    {
     "name": "stdout",
     "output_type": "stream",
     "text": [
      "Random Forest Accuracy: 0.6749821821191703\n"
     ]
    }
   ],
   "source": [
    "print('Random Forest Accuracy:', multi_evaluator.evaluate(rf_predictions))"
   ]
  },
  {
   "cell_type": "code",
   "execution_count": null,
   "metadata": {},
   "outputs": [],
   "source": []
  }
 ],
 "metadata": {
  "kernelspec": {
   "display_name": "Python 3",
   "language": "python",
   "name": "python3"
  },
  "language_info": {
   "codemirror_mode": {
    "name": "ipython",
    "version": 3
   },
   "file_extension": ".py",
   "mimetype": "text/x-python",
   "name": "python",
   "nbconvert_exporter": "python",
   "pygments_lexer": "ipython3",
   "version": "3.5.3"
  }
 },
 "nbformat": 4,
 "nbformat_minor": 4
}
